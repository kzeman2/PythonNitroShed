{
 "cells": [
  {
   "cell_type": "code",
   "execution_count": 43,
   "metadata": {},
   "outputs": [],
   "source": [
    "from mesa import Agent, Model\n",
    "import random\n",
    "from mesa.time import RandomActivation\n",
    "\n",
    "######## Model Control ##########\n",
    "class NitroShedModel(Model):\n",
    "    \"\"\"A model with some number of farmer agents.\"\"\"\n",
    "    \n",
    "    \"\"\"Initialize the model and create the agents\"\"\"\n",
    "    def __init__(self, N):\n",
    "        self.num_agents = N\n",
    "        self.schedule = RandomActivation(self)\n",
    "        # Create agents\n",
    "        for i in range(self.num_agents):\n",
    "            a = FarmerAgent(i, self)\n",
    "            self.schedule.add(a)\n",
    "            \n",
    "    def step(self):\n",
    "        '''Advance the model by one step.'''\n",
    "        self.schedule.step()\n",
    "\n",
    "        \n",
    "##### Farmer Agent ##############\n",
    "class FarmerAgent(Agent):\n",
    "    \"\"\" A Farmer Agent with initial amount of captial and a unique ID\"\"\"\n",
    "    def __init__(self, unique_id, model):\n",
    "        super().__init__(unique_id, model)  #### Super class  used for creating agents from Model Control####\n",
    "        self.capital = random.randint(500,1000)\n",
    "        self.unique_id=unique_id+1\n",
    "        print(\"Farmer:\",self.unique_id, \"Capital:\", self.capital)\n",
    "\n",
    "    def step(self):\n",
    "        if self.capital == 0:\n",
    "            return\n",
    "        other_agent = random.choice(self.model.schedule.agents)\n",
    "        other_agent.capital += 100\n",
    "        self.capital -= 100\n",
    "\n"
   ]
  },
  {
   "cell_type": "code",
   "execution_count": 52,
   "metadata": {},
   "outputs": [
    {
     "name": "stdout",
     "output_type": "stream",
     "text": [
      "Farmer: 1 Capital: 790\n",
      "Farmer: 2 Capital: 848\n",
      "Farmer: 3 Capital: 721\n",
      "Farmer: 4 Capital: 956\n",
      "Farmer: 5 Capital: 972\n",
      "Farmer: 6 Capital: 832\n",
      "Farmer: 7 Capital: 909\n",
      "Farmer: 8 Capital: 964\n",
      "Farmer: 9 Capital: 740\n",
      "Farmer: 10 Capital: 981\n"
     ]
    },
    {
     "data": {
      "text/plain": [
       "(array([2., 0., 1., 0., 2., 0., 0., 1., 0., 4.]),\n",
       " array([721., 747., 773., 799., 825., 851., 877., 903., 929., 955., 981.]),\n",
       " <a list of 10 Patch objects>)"
      ]
     },
     "execution_count": 52,
     "metadata": {},
     "output_type": "execute_result"
    },
    {
     "data": {
      "image/png": "[encoded data removed]",
      "text/plain": [
       "<Figure size 432x288 with 1 Axes>"
      ]
     },
     "metadata": {
      "needs_background": "light"
     },
     "output_type": "display_data"
    }
   ],
   "source": [
    "model = NitroShedModel(10)\n",
    "#model.step()\n",
    "farmer_capital = [a.capital for a in model.schedule.agents]\n",
    "plt.hist(farmer_capital)"
   ]
  },
  {
   "cell_type": "code",
   "execution_count": 53,
   "metadata": {},
   "outputs": [
    {
     "name": "stdout",
     "output_type": "stream",
     "text": [
      "Farmer: 1 Capital: 577\n",
      "Farmer: 2 Capital: 660\n",
      "Farmer: 3 Capital: 610\n",
      "Farmer: 4 Capital: 692\n",
      "Farmer: 5 Capital: 511\n",
      "Farmer: 6 Capital: 759\n",
      "Farmer: 7 Capital: 880\n",
      "Farmer: 8 Capital: 654\n",
      "Farmer: 9 Capital: 925\n",
      "Farmer: 10 Capital: 656\n"
     ]
    },
    {
     "data": {
      "text/plain": [
       "(array([2., 0., 0., 2., 0., 0., 1., 2., 1., 2.]),\n",
       " array([ 160.,  252.,  344.,  436.,  528.,  620.,  712.,  804.,  896.,\n",
       "         988., 1080.]),\n",
       " <a list of 10 Patch objects>)"
      ]
     },
     "execution_count": 53,
     "metadata": {},
     "output_type": "execute_result"
    },
    {
     "data": {
      "image/png": "[encoded data removed]",
      "text/plain": [
       "<Figure size 432x288 with 1 Axes>"
      ]
     },
     "metadata": {
      "needs_background": "light"
     },
     "output_type": "display_data"
    }
   ],
   "source": [
    "import matplotlib.pyplot as plt\n",
    "model = NitroShedModel(10)\n",
    "for i in range(10):\n",
    "    model.step()\n",
    "    \n",
    "\n",
    "farmer_capital = [a.capital for a in model.schedule.agents]\n",
    "plt.hist(farmer_capital)"
   ]
  },
  {
   "cell_type": "code",
   "execution_count": 54,
   "metadata": {},
   "outputs": [
    {
     "name": "stdout",
     "output_type": "stream",
     "text": [
      "Farmer: 1 Capital: 585\n",
      "Farmer: 2 Capital: 608\n",
      "Farmer: 3 Capital: 645\n",
      "Farmer: 4 Capital: 879\n",
      "Farmer: 5 Capital: 897\n",
      "Farmer: 6 Capital: 563\n",
      "Farmer: 7 Capital: 840\n",
      "Farmer: 8 Capital: 678\n",
      "Farmer: 9 Capital: 640\n",
      "Farmer: 10 Capital: 934\n",
      "Farmer: 1 Capital: 820\n",
      "Farmer: 2 Capital: 806\n",
      "Farmer: 3 Capital: 646\n",
      "Farmer: 4 Capital: 789\n",
      "Farmer: 5 Capital: 657\n",
      "Farmer: 6 Capital: 656\n",
      "Farmer: 7 Capital: 866\n",
      "Farmer: 8 Capital: 810\n",
      "Farmer: 9 Capital: 511\n",
      "Farmer: 10 Capital: 634\n",
      "Farmer: 1 Capital: 580\n",
      "Farmer: 2 Capital: 922\n",
      "Farmer: 3 Capital: 953\n",
      "Farmer: 4 Capital: 855\n",
      "Farmer: 5 Capital: 760\n",
      "Farmer: 6 Capital: 691\n",
      "Farmer: 7 Capital: 822\n",
      "Farmer: 8 Capital: 789\n",
      "Farmer: 9 Capital: 609\n",
      "Farmer: 10 Capital: 657\n",
      "Farmer: 1 Capital: 801\n",
      "Farmer: 2 Capital: 839\n",
      "Farmer: 3 Capital: 658\n",
      "Farmer: 4 Capital: 727\n",
      "Farmer: 5 Capital: 706\n",
      "Farmer: 6 Capital: 888\n",
      "Farmer: 7 Capital: 794\n",
      "Farmer: 8 Capital: 965\n",
      "Farmer: 9 Capital: 763\n",
      "Farmer: 10 Capital: 901\n",
      "Farmer: 1 Capital: 570\n",
      "Farmer: 2 Capital: 671\n",
      "Farmer: 3 Capital: 895\n",
      "Farmer: 4 Capital: 789\n",
      "Farmer: 5 Capital: 619\n",
      "Farmer: 6 Capital: 516\n",
      "Farmer: 7 Capital: 516\n",
      "Farmer: 8 Capital: 658\n",
      "Farmer: 9 Capital: 848\n",
      "Farmer: 10 Capital: 724\n",
      "Farmer: 1 Capital: 907\n",
      "Farmer: 2 Capital: 682\n",
      "Farmer: 3 Capital: 848\n",
      "Farmer: 4 Capital: 703\n",
      "Farmer: 5 Capital: 952\n",
      "Farmer: 6 Capital: 754\n",
      "Farmer: 7 Capital: 999\n",
      "Farmer: 8 Capital: 921\n",
      "Farmer: 9 Capital: 993\n",
      "Farmer: 10 Capital: 842\n",
      "Farmer: 1 Capital: 501\n",
      "Farmer: 2 Capital: 945\n",
      "Farmer: 3 Capital: 797\n",
      "Farmer: 4 Capital: 576\n",
      "Farmer: 5 Capital: 963\n",
      "Farmer: 6 Capital: 626\n",
      "Farmer: 7 Capital: 600\n",
      "Farmer: 8 Capital: 915\n",
      "Farmer: 9 Capital: 667\n",
      "Farmer: 10 Capital: 579\n",
      "Farmer: 1 Capital: 586\n",
      "Farmer: 2 Capital: 884\n",
      "Farmer: 3 Capital: 801\n",
      "Farmer: 4 Capital: 653\n",
      "Farmer: 5 Capital: 793\n",
      "Farmer: 6 Capital: 941\n",
      "Farmer: 7 Capital: 712\n",
      "Farmer: 8 Capital: 604\n",
      "Farmer: 9 Capital: 806\n",
      "Farmer: 10 Capital: 597\n",
      "Farmer: 1 Capital: 991\n",
      "Farmer: 2 Capital: 587\n",
      "Farmer: 3 Capital: 836\n",
      "Farmer: 4 Capital: 760\n",
      "Farmer: 5 Capital: 536\n",
      "Farmer: 6 Capital: 526\n",
      "Farmer: 7 Capital: 768\n",
      "Farmer: 8 Capital: 991\n",
      "Farmer: 9 Capital: 736\n",
      "Farmer: 10 Capital: 735\n",
      "Farmer: 1 Capital: 954\n",
      "Farmer: 2 Capital: 566\n",
      "Farmer: 3 Capital: 781\n",
      "Farmer: 4 Capital: 552\n",
      "Farmer: 5 Capital: 769\n",
      "Farmer: 6 Capital: 661\n",
      "Farmer: 7 Capital: 744\n",
      "Farmer: 8 Capital: 886\n",
      "Farmer: 9 Capital: 861\n",
      "Farmer: 10 Capital: 561\n"
     ]
    },
    {
     "data": {
      "text/plain": [
       "(array([0., 0., 0., ..., 0., 0., 3.]),\n",
       " array([   0,    1,    2, ..., 1963, 1964, 1965]),\n",
       " <a list of 1965 Patch objects>)"
      ]
     },
     "execution_count": 54,
     "metadata": {},
     "output_type": "execute_result"
    },
    {
     "data": {
      "image/png": "[encoded data removed]",
      "text/plain": [
       "<Figure size 432x288 with 1 Axes>"
      ]
     },
     "metadata": {
      "needs_background": "light"
     },
     "output_type": "display_data"
    }
   ],
   "source": [
    "#run.py\n",
    "import matplotlib.pyplot as plt\n",
    "\n",
    "all_capital = []\n",
    "for j in range(10):\n",
    "    model = NitroShedModel(10)\n",
    "    for i in range(10):\n",
    "        model.step()\n",
    "        \n",
    "        for agent in model.schedule.agents:\n",
    "            all_capital.append(agent.capital)\n",
    "    \n",
    "plt.hist(all_capital, bins=range(max(all_capital)+1))"
   ]
  },
  {
   "cell_type": "code",
   "execution_count": null,
   "metadata": {},
   "outputs": [],
   "source": []
  }
 ],
 "metadata": {
  "kernelspec": {
   "display_name": "Python 3",
   "language": "python",
   "name": "python3"
  },
  "language_info": {
   "codemirror_mode": {
    "name": "ipython",
    "version": 3
   },
   "file_extension": ".py",
   "mimetype": "text/x-python",
   "name": "python",
   "nbconvert_exporter": "python",
   "pygments_lexer": "ipython3",
   "version": "3.7.0"
  }
 },
 "nbformat": 4,
 "nbformat_minor": 2
}
